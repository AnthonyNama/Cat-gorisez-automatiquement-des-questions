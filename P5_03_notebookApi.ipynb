{
  "nbformat": 4,
  "nbformat_minor": 0,
  "metadata": {
    "colab": {
      "name": "P5_03_notebookApi.ipynb",
      "provenance": [],
      "collapsed_sections": [],
      "include_colab_link": true
    },
    "kernelspec": {
      "display_name": "Python 3",
      "language": "python",
      "name": "python3"
    },
    "language_info": {
      "codemirror_mode": {
        "name": "ipython",
        "version": 3
      },
      "file_extension": ".py",
      "mimetype": "text/x-python",
      "name": "python",
      "nbconvert_exporter": "python",
      "pygments_lexer": "ipython3",
      "version": "3.7.6"
    }
  },
  "cells": [
    {
      "cell_type": "markdown",
      "metadata": {
        "id": "view-in-github",
        "colab_type": "text"
      },
      "source": [
        "<a href=\"https://colab.research.google.com/github/AnthonyNama/Categoriser-automatiquement-des-questions/blob/master/P5_03_notebookApi.ipynb\" target=\"_parent\"><img src=\"https://colab.research.google.com/assets/colab-badge.svg\" alt=\"Open In Colab\"/></a>"
      ]
    },
    {
      "cell_type": "code",
      "metadata": {
        "colab_type": "code",
        "id": "dQq3A9wouJz7",
        "colab": {}
      },
      "source": [
        "import re\n",
        "import nltk\n",
        "import spacy\n",
        "import pickle\n",
        "import sklearn\n",
        "from joblib import load\n",
        "from numpy import loadtxt\n",
        "\n",
        "import xgboost as xgb\n",
        "from abbreviations import schwartz_hearst\n",
        "#from gensim.corpora.dictionary import Dictionary\n",
        "from flask import Flask, render_template, url_for, request"
      ],
      "execution_count": 0,
      "outputs": []
    },
    {
      "cell_type": "markdown",
      "metadata": {
        "colab_type": "text",
        "id": "Ippc26iWvKca"
      },
      "source": [
        "```\n",
        "preprocessing\n",
        "```"
      ]
    },
    {
      "cell_type": "code",
      "metadata": {
        "colab_type": "code",
        "id": "qZl0vdsTvAPN",
        "colab": {}
      },
      "source": [
        "nlp = spacy.load('en_core_web_sm', disable=[\"tagger\", \"parser\", \"ner\", \"textcat\"])"
      ],
      "execution_count": 0,
      "outputs": []
    },
    {
      "cell_type": "code",
      "metadata": {
        "colab_type": "code",
        "id": "31VYjvkkvWRq",
        "colab": {}
      },
      "source": [
        "def lowercase(val):\n",
        "    return val.lower().strip()\n",
        "\n",
        "# Change the abbreviations by their full value\n",
        "def abbreviation(text):\n",
        "    paires = schwartz_hearst.extract_abbreviation_definition_pairs(doc_text=text)\n",
        "    keys = [k for k, v in paires.items()]\n",
        "    document = nlp(text)\n",
        "    words = []\n",
        "    for token in document:\n",
        "        if token.text in keys and  token.text in mean_abbr:\n",
        "            words.append(paires[token.text])\n",
        "        else:\n",
        "            words.append(token.text)\n",
        "\n",
        "    return ' '.join(words)\n",
        "    \n",
        "def remove_contract_form(text):\n",
        "    document = nltk.word_tokenize(text) #nlp(text)\n",
        "    words = []\n",
        "    for token in document:\n",
        "        text = token\n",
        "        text = re.sub(r\"\\'m\", \"am\", text)\n",
        "        text = re.sub(r\"\\'re\", \"are\", text)\n",
        "        text = re.sub(r\"\\'s\", \" \", text)\n",
        "        text = re.sub(r\"n't\", \"not\", text)\n",
        "        text = re.sub(r\"\\'ve\", \"have\", text)\n",
        "        text = re.sub(r\"\\'d\", \"would\", text)\n",
        "        text = re.sub(r\"\\'ll\", \"will\", text)\n",
        "        words.append(text)\n",
        "    return ' '.join(words)\n",
        "\n",
        "# Delete STOP WORDS\n",
        "def del_stop_words(text):\n",
        "    document = nlp(text)\n",
        "    words = [token.text for token in document if not token.is_stop]\n",
        "    return ' '.join(words)\n",
        "\n",
        "# Delete punctuation\n",
        "def del_punct(text):\n",
        "    document = nlp(text)\n",
        "    words = [token.text for token in document if not token.is_punct]\n",
        "    return ' '.join(words)\n",
        "\n",
        "# Lemmatization\n",
        "def lemmatization(text):\n",
        "    document = nlp(text)\n",
        "    words = [token.lemma_ for token in document if not token.is_punct]\n",
        "    return ' '.join(words)\n",
        "\n",
        "# Remove special characters and bad symbols\n",
        "REPLACE_BY_SPACE_RE = re.compile('[/(){}\\[\\]\\|@,;-_+]')\n",
        "BAD_SYMBOLS_RE = re.compile('[^0-9a-z #]')\n",
        "def clean_spec_bad(text):\n",
        "    text = REPLACE_BY_SPACE_RE.sub(' ', text)\n",
        "    text = BAD_SYMBOLS_RE.sub(' ', text)\n",
        "    return text\n",
        "\n",
        "def remove_numbers(text):\n",
        "    document = nlp(text)\n",
        "    words = [token.text for token in document if not token.text.isdigit()]\n",
        "    return ' '.join(words)\n",
        "\n",
        "def delete_multiple_space(text):\n",
        "    return ' '.join(text.split())\n",
        "\n",
        "# Delete string of length = 1 and not in tags\n",
        "def low_length(text):\n",
        "    document = nlp(text)\n",
        "    words = []\n",
        "    for token in document:\n",
        "        if len(token.text) > 1:\n",
        "            words.append(token.text)\n",
        "        else:\n",
        "            if token.text in tags:\n",
        "                words.append(token.text) \n",
        "    return ' '.join(words)\n",
        "\n",
        "def remove_numbers_from_string(text):\n",
        "    document = nlp(text)\n",
        "    words = []\n",
        "    for token in document:\n",
        "        words.append(''.join([i for i in token.text if not i.isdigit()]))\n",
        "    return ' '.join(words)"
      ],
      "execution_count": 0,
      "outputs": []
    },
    {
      "cell_type": "code",
      "metadata": {
        "colab_type": "code",
        "id": "lUb5ptdOvbDE",
        "colab": {}
      },
      "source": [
        "def preprocessing(text):\n",
        "    text = lowercase(text)\n",
        "    text = abbreviation(text)\n",
        "    text = remove_contract_form(text)\n",
        "    text = clean_spec_bad(text)\n",
        "    text = del_stop_words(text)\n",
        "    text = remove_numbers_from_string(text)\n",
        "    text = delete_multiple_space(text)\n",
        "    text = low_length(text)\n",
        "    text = lemmatization(text)\n",
        "    return text"
      ],
      "execution_count": 0,
      "outputs": []
    },
    {
      "cell_type": "markdown",
      "metadata": {
        "colab_type": "text",
        "id": "rsSpD7KXvs3D"
      },
      "source": [
        "```\n",
        "Save and load object\n",
        "```"
      ]
    },
    {
      "cell_type": "code",
      "metadata": {
        "colab_type": "code",
        "id": "A507LeiQv1OL",
        "colab": {}
      },
      "source": [
        "def save_obj(obj, name):\n",
        "    with open('obj/'+ name + '.pkl', 'wb') as f:\n",
        "        pickle.dump(obj, f, pickle.HIGHEST_PROTOCOL)\n",
        "\n",
        "def load_obj(name):\n",
        "    with open('obj/' + name + '.pkl', 'rb') as f:\n",
        "        return pickle.load(f)"
      ],
      "execution_count": 0,
      "outputs": []
    },
    {
      "cell_type": "code",
      "metadata": {
        "colab_type": "code",
        "id": "ZeBj86jav8Tb",
        "colab": {}
      },
      "source": [
        "tags = load_obj('tags')\n",
        "mean_abbr = load_obj('mean_abbr')"
      ],
      "execution_count": 0,
      "outputs": []
    },
    {
      "cell_type": "code",
      "metadata": {
        "id": "MXd1LFB-uQk0",
        "colab_type": "code",
        "colab": {}
      },
      "source": [
        "vectorizer = load_obj('vectorizer')"
      ],
      "execution_count": 0,
      "outputs": []
    },
    {
      "cell_type": "code",
      "metadata": {
        "colab_type": "code",
        "id": "Fl7NLz7OB00O",
        "colab": {}
      },
      "source": [
        "xgb_model = load_obj('model')"
      ],
      "execution_count": 0,
      "outputs": []
    },
    {
      "cell_type": "code",
      "metadata": {
        "colab_type": "code",
        "id": "qtxxrL1LBs-_",
        "colab": {},
        "outputId": "eba9161b-6fff-4472-89cc-98d7ed76d214"
      },
      "source": [
        "dictionary = load_obj('dictionary')"
      ],
      "execution_count": 0,
      "outputs": [
        {
          "output_type": "stream",
          "text": [
            "2020-03-19 16:58:14,721 : INFO : 'pattern' package found; tag filters are available for English\n"
          ],
          "name": "stderr"
        }
      ]
    },
    {
      "cell_type": "code",
      "metadata": {
        "colab_type": "code",
        "id": "6C8FtBTywFtk",
        "colab": {}
      },
      "source": [
        "lda_model = load_obj('lda_model')"
      ],
      "execution_count": 0,
      "outputs": []
    },
    {
      "cell_type": "markdown",
      "metadata": {
        "colab_type": "text",
        "id": "uWf0liGg5gxa"
      },
      "source": [
        "```\n",
        "Constance\n",
        "```"
      ]
    },
    {
      "cell_type": "code",
      "metadata": {
        "colab_type": "code",
        "id": "uO_1CGRK5mP6",
        "colab": {}
      },
      "source": [
        "n_labels = 3"
      ],
      "execution_count": 0,
      "outputs": []
    },
    {
      "cell_type": "code",
      "metadata": {
        "colab_type": "code",
        "id": "G852zkyC5rcp",
        "colab": {}
      },
      "source": [
        "no_top_words = 10"
      ],
      "execution_count": 0,
      "outputs": []
    },
    {
      "cell_type": "markdown",
      "metadata": {
        "colab_type": "text",
        "id": "5UtMUxSI6cvq"
      },
      "source": [
        "```\n",
        "Prediction function and sub-functions\n",
        "```"
      ]
    },
    {
      "cell_type": "code",
      "metadata": {
        "colab_type": "code",
        "id": "FhHz68835uYS",
        "colab": {}
      },
      "source": [
        "def display_keywords(model, no_top_words, num_topic, num_topics=30):\n",
        "    for idx, topic in model.show_topics(formatted=False, num_topics=num_topics, num_words= no_top_words):\n",
        "        if idx == num_topic:\n",
        "            return \" \".join([w[0] for w in topic])"
      ],
      "execution_count": 0,
      "outputs": []
    },
    {
      "cell_type": "code",
      "metadata": {
        "colab_type": "code",
        "id": "u4013Cka6lM6",
        "colab": {}
      },
      "source": [
        "def num_topic(topic_pro):\n",
        "    max = 0\n",
        "    nu_top = -1\n",
        "    for t_p in topic_pro:\n",
        "        if t_p[1] >= max:\n",
        "            max = t_p[1]\n",
        "            nu_top = t_p[0]\n",
        "    return nu_top"
      ],
      "execution_count": 0,
      "outputs": []
    },
    {
      "cell_type": "code",
      "metadata": {
        "colab_type": "code",
        "id": "rGr5UVNw6nOS",
        "colab": {}
      },
      "source": [
        "def prediction(body, title):\n",
        "    c= []\n",
        "    text = preprocessing(body + \" \" + title)\n",
        "    c.append(text)\n",
        "    X_bt = vectorizer.transform(c)\n",
        "    input_lda = dictionary.doc2bow(text.split())\n",
        "\n",
        "    y_preds_pro = xgb_model.predict_proba(X_bt)\n",
        "\n",
        "    y_preds = y_preds_pro[0].argsort()[-n_labels:][::-1]\n",
        "\n",
        "    idx_topic = num_topic(lda_model.get_document_topics(input_lda))\n",
        "\n",
        "    keywords = display_keywords(lda_model, no_top_words, idx_topic)\n",
        "\n",
        "    labels = []\n",
        "    for i in y_preds:\n",
        "        labels.append(xgb_model.classes_[i])\n",
        "\n",
        "    print(\"The keywords proposed : {}\".format(keywords))\n",
        "    print(\"The tags proposed : {}\".format(labels))\n",
        "    return (keywords, labels)"
      ],
      "execution_count": 0,
      "outputs": []
    },
    {
      "cell_type": "markdown",
      "metadata": {
        "colab_type": "text",
        "id": "g-DLymEy6rxa"
      },
      "source": [
        "```\n",
        "Building API\n",
        "```"
      ]
    },
    {
      "cell_type": "code",
      "metadata": {
        "colab_type": "code",
        "id": "70WFqxR36piE",
        "outputId": "e7345c4d-3222-4c48-e3f3-aaa34dfa8692",
        "colab": {
          "base_uri": "https://localhost:8080/",
          "height": 121
        }
      },
      "source": [
        "app = Flask(__name__)\n",
        " \n",
        "@app.route('/', methods = ['GET','POST'])\n",
        "def main():\n",
        "    return \"\"\"<!DOCTYPE html>\n",
        "                <html>\n",
        "                    <head>\n",
        "                         <title>Catégoriser auto questions</title>\n",
        "                    </head>\n",
        "                    <body>\n",
        "                        <div align=\"center\" class=\"bg-info\">\n",
        "                            <h1>Stack Overflow predict keywords-tags</h1>\n",
        "                        </div>\n",
        "                        <div class=\"big\" align=\"center\">\n",
        "                            <form action=\"predict\" method=\"POST\">\n",
        "                                <h3>Enter Your Title</h3>\n",
        "                                <textarea name=\"title\" rows=\"1\" cols=\"70\"></textarea>\n",
        "                                <br>\n",
        "                                <h3>Enter Your Body</h3>\n",
        "                                <textarea name=\"body\" rows=\"20\" cols=\"70\"></textarea>\n",
        "                                   <br><br><br>\n",
        "                               <input type=\"submit\" name=\"\" value=\"Predict\" class=\"btn btn-info\">\n",
        "                              </form>\n",
        "                         </div>\n",
        "                    </body>\n",
        "                </html>\n",
        "                \"\"\"\n",
        "\n",
        "@app.route('/predict', methods = ['POST'])\n",
        "def predict():\n",
        "    title = \"\"\n",
        "    body = \"\"\n",
        "    if request.method == 'POST':\n",
        "        title = str(request.form['title'])\n",
        "        body = str(request.form['body'])\n",
        "        ret = preprocessing( body + title)\n",
        "    keywords, tags = prediction(body, title)\n",
        "    keys = keywords.split()\n",
        "    return \"\"\"\n",
        "            <!DOCTYPE html>\n",
        "            <html>\n",
        "                <head>\n",
        "                     <title>Catégoriser auto questions</title>\n",
        "                </head>\n",
        "                <body>\n",
        "                    <div class=\"big\" align=\"center\">\n",
        "                                <h4>Title entered</h4>\n",
        "                                <textarea name=\"title\" rows=\"1\" cols=\"100\"disabled>\"\"\"+ title +\"\"\"</textarea>\n",
        "                                <br>\n",
        "                                <h4>Body entered</h4>\n",
        "                                <textarea name=\"body\" rows=\"7\" cols=\"100\" disabled>\"\"\"+ body +\"\"\"</textarea>\n",
        "                                   <br><br>\n",
        "                    </div>\n",
        "                     <div class=\"bg-info\" align=\"center\">\n",
        "                         <h2>The keywords proposed</h2>\n",
        "                     </div>\n",
        "                     <div align=\"center\">\n",
        "                            <textarea rows=\"1\" cols=\"10\" disabled>\"\"\"+ keys[0] +\"\"\"</textarea>\n",
        "                          <textarea rows=\"1\" cols=\"10\" disabled>\"\"\"+ keys[1] +\"\"\"</textarea>\n",
        "                          <textarea rows=\"1\" cols=\"10\" disabled>\"\"\"+ keys[2] +\"\"\"</textarea>\n",
        "                          <textarea rows=\"1\" cols=\"10\" disabled>\"\"\"+ keys[3] +\"\"\"</textarea>\n",
        "                          <textarea rows=\"1\" cols=\"10\" disabled>\"\"\"+ keys[4] +\"\"\"</textarea>\n",
        "                          <textarea rows=\"1\" cols=\"10\" disabled>\"\"\"+ keys[5] +\"\"\"</textarea>\n",
        "                          <textarea rows=\"1\" cols=\"10\" disabled>\"\"\"+ keys[6] +\"\"\"</textarea>\n",
        "                          <textarea rows=\"1\" cols=\"10\" disabled>\"\"\"+ keys[7] +\"\"\"</textarea>\n",
        "                          <textarea rows=\"1\" cols=\"10\" disabled>\"\"\"+ keys[8] +\"\"\"</textarea>\n",
        "                          <textarea rows=\"1\" cols=\"10\" disabled>\"\"\"+ keys[9] +\"\"\"</textarea>\n",
        "                          <h2>The tags proposed</h2>\n",
        "                          <textarea rows=\"1\" cols=\"10\" disabled>#\"\"\"+ tags[0] +\"\"\"</textarea>\n",
        "                          <textarea rows=\"1\" cols=\"10\" disabled>#\"\"\"+ tags[1] +\"\"\"</textarea>\n",
        "                          <textarea rows=\"1\" cols=\"10\" disabled>#\"\"\"+ tags[2] +\"\"\"</textarea>\n",
        "                     </div>\n",
        "                     <br><br><br>\n",
        "                     <form action=\"/\" method=\"POST\" align=\"center\">\n",
        "                         <input type=\"submit\" name=\"\" value=\"Try again\" class=\"btn btn-info\">\n",
        "                     </form>\n",
        "                </body>\n",
        "            </html>\n",
        "        \"\"\"\n",
        "if __name__ == \"__main__\":\n",
        "    app.run()"
      ],
      "execution_count": 0,
      "outputs": [
        {
          "output_type": "stream",
          "text": [
            " * Serving Flask app \"__main__\" (lazy loading)\n",
            " * Environment: production\n",
            "   WARNING: This is a development server. Do not use it in a production deployment.\n",
            "   Use a production WSGI server instead.\n",
            " * Debug mode: off\n"
          ],
          "name": "stdout"
        },
        {
          "output_type": "stream",
          "text": [
            "2020-03-19 17:11:48,167 : INFO :  * Running on http://127.0.0.1:5000/ (Press CTRL+C to quit)\n",
            "2020-03-19 17:11:49,590 : INFO : 127.0.0.1 - - [19/Mar/2020 17:11:49] \"\u001b[37mGET / HTTP/1.1\u001b[0m\" 200 -\n",
            "2020-03-19 17:13:03,149 : INFO : 127.0.0.1 - - [19/Mar/2020 17:13:03] \"\u001b[37mPOST /predict HTTP/1.1\u001b[0m\" 200 -\n"
          ],
          "name": "stderr"
        },
        {
          "output_type": "stream",
          "text": [
            "The keywords proposed : library object event create formula task directive use export component\n",
            "The tags proposed : ['javascript', 'c++', 'python']\n"
          ],
          "name": "stdout"
        }
      ]
    },
    {
      "cell_type": "code",
      "metadata": {
        "id": "AFQT-ZvQuQlX",
        "colab_type": "code",
        "colab": {}
      },
      "source": [
        ""
      ],
      "execution_count": 0,
      "outputs": []
    }
  ]
}